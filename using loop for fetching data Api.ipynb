{
 "cells": [
  {
   "cell_type": "code",
   "execution_count": 3,
   "metadata": {},
   "outputs": [
    {
     "name": "stdout",
     "output_type": "stream",
     "text": [
      "BTC\n",
      "9366.91\n",
      "--------------------\n",
      "ETH\n",
      "208.03\n",
      "--------------------\n",
      "XRP\n",
      "0.20\n",
      "--------------------\n",
      "USDT\n",
      "1.00\n",
      "--------------------\n",
      "BCH\n",
      "237.27\n",
      "--------------------\n"
     ]
    }
   ],
   "source": [
    "import requests\n",
    "import json\n",
    "api_request=requests.get(\"https://pro-api.coinmarketcap.com/v1/cryptocurrency/listings/latest?start=1&limit=5&convert=USD&CMC_PRO_API_KEY=332c0fe8-fcfe-410a-a7bb-85c61fe285ff\")\n",
    "api=json.loads(api_request.content)\n",
    "for i in range (0,5):\n",
    "    \n",
    "    print(api[\"data\"][i][\"symbol\"])\n",
    "    print(\"{0:.2f}\".format(api[\"data\"][i][\"quote\"][\"USD\"][\"price\"]))\n",
    "    print(\"--------------------\")"
   ]
  },
  {
   "cell_type": "code",
   "execution_count": 5,
   "metadata": {},
   "outputs": [
    {
     "name": "stdout",
     "output_type": "stream",
     "text": [
      "ETH\n",
      "207.89\n",
      "--------------------\n",
      "BCH\n",
      "237.30\n",
      "--------------------\n"
     ]
    }
   ],
   "source": [
    "#for fetching specified cois data ad price\n",
    "api_request=requests.get(\"https://pro-api.coinmarketcap.com/v1/cryptocurrency/listings/latest?start=1&limit=5&convert=USD&CMC_PRO_API_KEY=332c0fe8-fcfe-410a-a7bb-85c61fe285ff\")\n",
    "api=json.loads(api_request.content)\n",
    "coins=(\"ETH\",\"BCH\")\n",
    "for i in range (0,5):\n",
    "    for coin in coins :\n",
    "        if api[\"data\"][i][\"symbol\"]==coin:\n",
    "\n",
    "            print(api[\"data\"][i][\"symbol\"])\n",
    "            print(\"{0:.2f}\".format(api[\"data\"][i][\"quote\"][\"USD\"][\"price\"]))\n",
    "            print(\"--------------------\")"
   ]
  },
  {
   "cell_type": "code",
   "execution_count": 10,
   "metadata": {},
   "outputs": [
    {
     "name": "stdout",
     "output_type": "stream",
     "text": [
      "Bitcoin --BTC\n",
      "9091.69\n",
      "--------------------\n",
      "Ethereum --ETH\n",
      "201.65\n",
      "--------------------\n"
     ]
    }
   ],
   "source": [
    "#creatig portfolio\n",
    "api_request=requests.get(\"https://pro-api.coinmarketcap.com/v1/cryptocurrency/listings/latest?start=1&limit=5&convert=USD&CMC_PRO_API_KEY=332c0fe8-fcfe-410a-a7bb-85c61fe285ff\")\n",
    "api=json.loads(api_request.content)\n",
    "coins=[\n",
    "    {\n",
    "        \"symbol\":\"BTC\",\n",
    "        \"ammount_owned\":2,\n",
    "        \"price_per_coin\":3200\n",
    "    },\n",
    "    {\n",
    "        \"symbol\":\"ETH\",\n",
    "        \"ammount_owned\":100,\n",
    "        \"price_per_coin\":2.05\n",
    "    }\n",
    "]\n",
    "for i in range (0,5):\n",
    "    for coin in coins :\n",
    "        if api[\"data\"][i][\"symbol\"]==coin[\"symbol\"]:\n",
    "\n",
    "            print(api[\"data\"][i][\"name\"]+\" --\"+api[\"data\"][i][\"symbol\"])\n",
    "            print(\"{0:.2f}\".format(api[\"data\"][i][\"quote\"][\"USD\"][\"price\"]))\n",
    "            print(\"--------------------\")"
   ]
  }
 ],
 "metadata": {
  "kernelspec": {
   "display_name": "Python 3",
   "language": "python",
   "name": "python3"
  },
  "language_info": {
   "codemirror_mode": {
    "name": "ipython",
    "version": 3
   },
   "file_extension": ".py",
   "mimetype": "text/x-python",
   "name": "python",
   "nbconvert_exporter": "python",
   "pygments_lexer": "ipython3",
   "version": "3.7.6"
  }
 },
 "nbformat": 4,
 "nbformat_minor": 4
}
